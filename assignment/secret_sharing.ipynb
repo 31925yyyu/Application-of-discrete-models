{
 "cells": [
  {
   "cell_type": "code",
   "execution_count": 8,
   "metadata": {
    "collapsed": false
   },
   "outputs": [
   ],
   "source": [
    "import random\n",
    "\n",
    "UPPER_LIMIT = 10^6\n",
    "\n",
    "def create_shares(T, N, secret):\n",
    "    if T > N:\n",
    "        raise ValueError(\"invalid argument. The value of T must be larger than the value of N\")\n",
    "    \n",
    "    \"\"\" Firstly, we need to create a random polynomial of degree N-1 \"\"\"\n",
    "    coefficients = [random.randrange(UPPER_LIMIT) for _ in range(T-1)]\n",
    "    coefficients.append(secret)\n",
    "    \n",
    "    \"\"\" Then we construct a polynomial according to the coefficients \"\"\"\n",
    "    x = QQ['x'].0\n",
    "    f = 0\n",
    "    exp = len(coefficients) - 1\n",
    "    for i in coefficients:\n",
    "        f += x^exp*i\n",
    "        exp -= 1\n",
    "    \n",
    "    \"\"\" Then we generate N random points on the polynomial \"\"\"\n",
    "    shares = []\n",
    "    for _ in range(N):\n",
    "        x = random.randrange(UPPER_LIMIT)\n",
    "        shares.append((x, f(x)))\n",
    "    return shares\n",
    "\n",
    "def decrypt_secret(shares):\n",
    "    \"\"\" The function calculates the secret value based on the shares given \"\"\"\n",
    "    R = PolynomialRing(QQ, 'x')\n",
    "    f = R.lagrange_polynomial(shares)\n",
    "    # print(f)\n",
    "    return f(0) # The constant term of the generated polynomial is the secret we would like to compute\n",
    "    "
   ]
  },
  {
   "cell_type": "markdown",
   "metadata": {
    "collapsed": false
   },
   "source": [
    "The code above is the source code part\n",
    "\n",
    "The code below are the test cases\n"
   ]
  },
  {
   "cell_type": "code",
   "execution_count": 2,
   "metadata": {
    "cocalc": {
     "outputs": {
      "0": {
       "name": "input",
       "opts": {
        "password": false,
        "prompt": "Please enter the secret number you would like to have: "
       },
       "output_type": "stream",
       "value": "12"
      },
      "1": {
       "name": "input",
       "opts": {
        "password": false,
        "prompt": "Please enter the number of shares you would like to have: "
       },
       "output_type": "stream",
       "value": "5"
      },
      "2": {
       "name": "input",
       "opts": {
        "password": false,
        "prompt": "Please enter the number of shares required to get the secret: "
       },
       "output_type": "stream",
       "value": "4"
      }
     }
    },
    "collapsed": false
   },
   "outputs": [
    {
     "name": "stdout",
     "output_type": "stream",
     "text": "Please enter the secret number you would like to have:  12"
    },
    {
     "name": "stdout",
     "output_type": "stream",
     "text": "Please enter the number of shares you would like to have:  5"
    },
    {
     "name": "stdout",
     "output_type": "stream",
     "text": "Please enter the number of shares required to get the secret:  4"
    },
    {
     "name": "stdout",
     "output_type": "stream",
     "text": [
      "The shares generated are: \n",
      "[(291559, 22618426630555228978238), (222189, 10010387908066492604538), (276965, 19389104137460040707242), (117198, 1469077238606408109984), (446136, 81037234474852429106460)]\n",
      "After combining the shares, the secret is: 12\n"
     ]
    }
   ],
   "source": [
    "secret = int(input(\"Please enter the secret number you would like to have: \"))\n",
    "N = int(input(\"Please enter the number of shares you would like to have: \"))\n",
    "T = int(input(\"Please enter the number of shares required to get the secret: \"))\n",
    "\n",
    "shares = create_shares(T, N, secret)\n",
    "print(\"The shares generated are: \")\n",
    "print(shares)\n",
    "\n",
    "random_shares = random.sample(shares, T)\n",
    "answer = decrypt_secret(random_shares)\n",
    "print(f\"After combining the shares, the secret is: {answer}\")"
   ]
  },
  {
   "cell_type": "code",
   "execution_count": 9,
   "metadata": {
    "collapsed": false
   },
   "outputs": [
    {
     "name": "stdout",
     "output_type": "stream",
     "text": [
      "##### TEST WITH NORMAL DATA #####\n",
      "15\n",
      "Test passed\n",
      "263648*x^2 + 386507*x + 18\n",
      "Test passed\n",
      "865036*x^4 + 132680*x^3 + 577792*x^2 + 489016*x + 123\n",
      "Test passed\n",
      "87979*x^4 + 820470*x^3 + 521655*x^2 + 448024*x + 1556\n",
      "Test passed\n",
      "900206*x^4 + 232599*x^3 + 410607*x^2 + 212321*x + 10000\n",
      "Test passed\n"
     ]
    }
   ],
   "source": [
    "def normal_test(T, N ,secret):\n",
    "    \"\"\" Tests in this case mean to generate secret values that are equal to the original secret value \"\"\"\n",
    "    shares = create_shares(T, N, secret)\n",
    "    \n",
    "    random_shares = random.sample(shares, T)\n",
    "    decrypted_secret = decrypt_secret(random_shares)\n",
    "    \n",
    "    return secret == decrypted_secret\n",
    "\n",
    "print(\"##### TEST WITH NORMAL DATA #####\")\n",
    "\n",
    "if normal_test(1, 2, 15):\n",
    "    print(\"Test passed\")\n",
    "else:\n",
    "    print(\"Test failed\")\n",
    "    \n",
    "if normal_test(3, 5, 18):\n",
    "    print(\"Test passed\")\n",
    "else:\n",
    "    print(\"Test failed\")\n",
    "    \n",
    "if normal_test(5, 5, 123):\n",
    "    print(\"Test passed\")\n",
    "else:\n",
    "    print(\"Test failed\")\n",
    "    \n",
    "if normal_test(5, 6, 1556):\n",
    "    print(\"Test passed\")\n",
    "else:\n",
    "    print(\"Test failed\")\n",
    "    \n",
    "if normal_test(5, 7, 10000):\n",
    "    print(\"Test passed\")\n",
    "else:\n",
    "    print(\"Test failed\")"
   ]
  },
  {
   "cell_type": "code",
   "execution_count": 24,
   "metadata": {
    "collapsed": false
   },
   "outputs": [
    {
     "name": "stdout",
     "output_type": "stream",
     "text": [
      "##### TEST WITH FAILED DATA #####\n",
      "Test passed\n",
      "Test passed\n",
      "Test passed\n",
      "Test passed\n",
      "Test passed\n"
     ]
    }
   ],
   "source": [
    "def failed_test(T, N, secret):\n",
    "    \"\"\" Tests in this case mean to generate a secret value which is different from the orginal secret \"\"\"\n",
    "    shares = create_shares(T, N, secret)\n",
    "    \n",
    "    random_shares = random.sample(shares, random.randrange(1, T-1)) # Generate m shares where m < t, meaning that the secret cannot be computed\n",
    "    decrypted_secret = decrypt_secret(random_shares)\n",
    "    \n",
    "    return secret != decrypted_secret\n",
    "\n",
    "print(\"##### TEST WITH FAILED DATA #####\")\n",
    "\n",
    "if failed_test(3, 5, 12):\n",
    "    print(\"Test passed\")\n",
    "else:\n",
    "    print(\"Test failed\")\n",
    "    \n",
    "if failed_test(3, 6, 18):\n",
    "    print(\"Test passed\")\n",
    "else:\n",
    "    print(\"Test failed\")\n",
    "    \n",
    "if failed_test(5, 5, 123):\n",
    "    print(\"Test passed\")\n",
    "else:\n",
    "    print(\"Test failed\")\n",
    "    \n",
    "if failed_test(5, 6, 122):\n",
    "    print(\"Test passed\")\n",
    "else:\n",
    "    print(\"Test failed\")\n",
    "    \n",
    "if failed_test(6, 8, 12345):\n",
    "    print(\"Test passed\")\n",
    "else:\n",
    "    print(\"Test failed\")"
   ]
  },
  {
   "cell_type": "code",
   "execution_count": 4,
   "metadata": {
    "collapsed": false
   },
   "outputs": [
    {
     "name": "stdout",
     "output_type": "stream",
     "text": [
      "Test passed\n",
      "Test passed\n",
      "Test passed\n"
     ]
    }
   ],
   "source": [
    "def error_test(T, N, secret):\n",
    "    \"\"\"All tests in this case mean to raise error during the execution of the program \"\"\"\n",
    "    shares = create_shares(T, N, secret)\n",
    "    \n",
    "    random_shares = random.sample(shares, T)\n",
    "    decrypted_secret = decrypt_secret(random_shares)\n",
    "    \n",
    "    return secret == decrypted_secret\n",
    "\n",
    "try:\n",
    "    error_test(6, 5, 12)\n",
    "    print(\"Test failed\")\n",
    "except ValueError as e:\n",
    "    print(\"Test passed\")\n",
    "    \n",
    "try:\n",
    "    error_test(7, 3, 1232)\n",
    "    print(\"Test failed\")\n",
    "except ValueError as e:\n",
    "    print(\"Test passed\")\n",
    "    \n",
    "try:\n",
    "    error_test(9, 4, 12132)\n",
    "    print(\"Test failed\")\n",
    "except ValueError as e:\n",
    "    print(\"Test passed\")"
   ]
  },
  {
   "cell_type": "code",
   "execution_count": 0,
   "metadata": {
    "collapsed": false
   },
   "outputs": [
   ],
   "source": [
   ]
  }
 ],
 "metadata": {
  "kernelspec": {
   "display_name": "SageMath 9.7",
   "language": "sagemath",
   "metadata": {
    "cocalc": {
     "description": "Open-source mathematical software system",
     "priority": 10,
     "url": "https://www.sagemath.org/"
    }
   },
   "name": "sage-9.7",
   "resource_dir": "/ext/jupyter/kernels/sage-9.7"
  },
  "language_info": {
   "codemirror_mode": {
    "name": "ipython",
    "version": 3
   },
   "file_extension": ".py",
   "mimetype": "text/x-python",
   "name": "python",
   "nbconvert_exporter": "python",
   "pygments_lexer": "ipython3",
   "version": "3.10.5"
  }
 },
 "nbformat": 4,
 "nbformat_minor": 4
}