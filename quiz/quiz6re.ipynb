{
 "cells": [
  {
   "cell_type": "code",
   "execution_count": 0,
   "metadata": {
    "collapsed": false
   },
   "outputs": [
   ],
   "source": [
    "def function(a, b):\n",
    "    l = dict(factor(b))\n",
    "    mx = 0\n",
    "    for i in l.items():\n",
    "        if i[1] > mx:\n",
    "            mx = i[0]\n",
    "    res = mx*a\n",
    "    return res\n",
    "function(4, 5)"
   ]
  },
  {
   "cell_type": "code",
   "execution_count": 0,
   "metadata": {
    "collapsed": false
   },
   "outputs": [
   ],
   "source": [
   ]
  }
 ],
 "metadata": {
  "kernelspec": {
   "display_name": "SageMath 9.7",
   "language": "sagemath",
   "metadata": {
    "cocalc": {
     "description": "Open-source mathematical software system",
     "priority": 10,
     "url": "https://www.sagemath.org/"
    }
   },
   "name": "sage-9.7",
   "resource_dir": "/ext/jupyter/kernels/sage-9.7"
  }
 },
 "nbformat": 4,
 "nbformat_minor": 4
}