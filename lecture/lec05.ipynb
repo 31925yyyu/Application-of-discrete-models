{
 "cells": [
  {
   "cell_type": "code",
   "execution_count": 1,
   "metadata": {
    "collapsed": false
   },
   "outputs": [],
   "source": [
    "def p_factor(n):\n",
    "    return list(factor(n))"
   ]
  },
  {
   "cell_type": "code",
   "execution_count": 2,
   "metadata": {
    "collapsed": false
   },
   "outputs": [
    {
     "ename": "NameError",
     "evalue": "name 'factor' is not defined",
     "output_type": "error",
     "traceback": [
      "\u001b[0;31m---------------------------------------------------------------------------\u001b[0m",
      "\u001b[0;31mNameError\u001b[0m                                 Traceback (most recent call last)",
      "Cell \u001b[0;32mIn [2], line 1\u001b[0m\n\u001b[0;32m----> 1\u001b[0m p_factor(\u001b[39m20\u001b[39;49m)\n",
      "Cell \u001b[0;32mIn [1], line 2\u001b[0m, in \u001b[0;36mp_factor\u001b[0;34m(n)\u001b[0m\n\u001b[1;32m      1\u001b[0m \u001b[39mdef\u001b[39;00m \u001b[39mp_factor\u001b[39m(n):\n\u001b[0;32m----> 2\u001b[0m     \u001b[39mreturn\u001b[39;00m \u001b[39mlist\u001b[39m(factor(n))\n",
      "\u001b[0;31mNameError\u001b[0m: name 'factor' is not defined"
     ]
    }
   ],
   "source": [
    "p_factor(20)"
   ]
  },
  {
   "cell_type": "code",
   "execution_count": 6,
   "metadata": {
    "collapsed": false
   },
   "outputs": [],
   "source": [
    "def unsigned_euclidean_division(m, n):\n",
    "    q=0\n",
    "    r = m\n",
    "    while r >= n:\n",
    "        q += 1\n",
    "        r -= n\n",
    "    return q, r"
   ]
  },
  {
   "cell_type": "code",
   "execution_count": 7,
   "metadata": {
    "collapsed": false
   },
   "outputs": [],
   "source": [
    "def euclidean_division(a, b):\n",
    "    \n",
    "    if b<0:\n",
    "        q, r = unsigned_euclidean_division(a, -b)\n",
    "        return -q, r\n",
    "    \n",
    "    if a<0:\n",
    "        q, r = unsigned_euclidean_division(-a, b)\n",
    "        if r ==0:\n",
    "            return -q, 0\n",
    "        return -q-1, b-r\n",
    "    \n",
    "    return unsigned_euclidean_division(a, b)"
   ]
  },
  {
   "cell_type": "code",
   "execution_count": 10,
   "metadata": {
    "collapsed": false
   },
   "outputs": [],
   "source": [
    "def extended_euclidean_algorithm(a, b):\n",
    "    if a==0 and b==0:\n",
    "        return 0, 0, 0\n",
    "    if a>0 and b==0:\n",
    "        return a, 1 , 0\n",
    "    if a<0 and b==0:\n",
    "        return -a, -1, 0\n",
    "    \n",
    "    x_prev, y_prev, r_prev = 1, 0, a\n",
    "    x, y, r = 0, 1, b\n",
    "    \n",
    "    while r !=0:\n",
    "        q, t = euclidean_division(r_prev, r)\n",
    "        r_prev = r\n",
    "        r = t\n",
    "        \n",
    "        t = x\n",
    "        x = x_prev - t * q\n",
    "        x_prev = t\n",
    "        \n",
    "        t = y\n",
    "        y = y_prev - t * q\n",
    "        y_prev = t\n",
    "    return r_prev, x_prev, y_prev"
   ]
  },
  {
   "cell_type": "code",
   "execution_count": 11,
   "metadata": {
    "collapsed": false
   },
   "outputs": [
    {
     "data": {
      "text/plain": [
       "(4, -7, 16)"
      ]
     },
     "execution_count": 11,
     "metadata": {},
     "output_type": "execute_result"
    }
   ],
   "source": [
    "extended_euclidean_algorithm(164, 72)"
   ]
  },
  {
   "cell_type": "code",
   "execution_count": null,
   "metadata": {
    "collapsed": false
   },
   "outputs": [],
   "source": []
  }
 ],
 "metadata": {
  "kernelspec": {
   "display_name": "Python 3.9.7 64-bit",
   "language": "python",
   "name": "python3"
  },
  "language_info": {
   "codemirror_mode": {
    "name": "ipython",
    "version": 3
   },
   "file_extension": ".py",
   "mimetype": "text/x-python",
   "name": "python",
   "nbconvert_exporter": "python",
   "pygments_lexer": "ipython3",
   "version": "3.9.7"
  },
  "vscode": {
   "interpreter": {
    "hash": "aee8b7b246df8f9039afb4144a1f6fd8d2ca17a180786b69acc140d282b71a49"
   }
  }
 },
 "nbformat": 4,
 "nbformat_minor": 4
}
