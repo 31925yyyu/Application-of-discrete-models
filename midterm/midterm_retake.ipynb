{
 "cells": [
  {
   "cell_type": "code",
   "execution_count": 21,
   "metadata": {
    "collapsed": false
   },
   "outputs": [
    {
     "data": {
      "text/plain": [
       "1"
      ]
     },
     "execution_count": 21,
     "metadata": {
     },
     "output_type": "execute_result"
    }
   ],
   "source": [
    "# q1\n",
    "def co_prime_pairs(listl):\n",
    "    return len([i for i in listl if gcd(i[0], i[1]) == 1])\n",
    "co_prime_pairs([[2,14], [9,3], [25,77]])"
   ]
  },
  {
   "cell_type": "code",
   "execution_count": 27,
   "metadata": {
    "collapsed": false
   },
   "outputs": [
    {
     "data": {
      "text/plain": [
       "(26, -3)"
      ]
     },
     "execution_count": 27,
     "metadata": {
     },
     "output_type": "execute_result"
    }
   ],
   "source": [
    "# q2\n",
    "def cal(a, b):\n",
    "    d, y, x = xgcd(a, b)\n",
    "    return (y, x)\n",
    "cal(14, 121)"
   ]
  },
  {
   "cell_type": "code",
   "execution_count": 28,
   "metadata": {
    "collapsed": false
   },
   "outputs": [
    {
     "data": {
      "text/plain": [
       "False"
      ]
     },
     "execution_count": 28,
     "metadata": {
     },
     "output_type": "execute_result"
    }
   ],
   "source": [
    "# q3\n",
    "def five_divis(L):\n",
    "    return 5 in [p[0] for p in L]\n",
    "five_divis([(2, 1), (7, 1)])"
   ]
  },
  {
   "cell_type": "code",
   "execution_count": 32,
   "metadata": {
    "collapsed": false
   },
   "outputs": [
    {
     "data": {
      "text/plain": [
       "True"
      ]
     },
     "execution_count": 32,
     "metadata": {
     },
     "output_type": "execute_result"
    }
   ],
   "source": [
    "# q4\n",
    "def is_in_random(r, F):\n",
    "    if(r in F):\n",
    "        return True\n",
    "    return False\n",
    "is_in_random(4, [1, 2, 4])\n",
    "\n",
    "# version2\n",
    "def is_in_random2(r, F):\n",
    "    return any([r == a for a in F])\n",
    "is_in_random2(4, [1, 2, 4])"
   ]
  },
  {
   "cell_type": "code",
   "execution_count": 30,
   "metadata": {
    "collapsed": false
   },
   "outputs": [
    {
     "name": "stdout",
     "output_type": "stream",
     "text": [
      "a is 3\n",
      "b is 7\n",
      "c is 4\n",
      "Yes, a is the inverse of b mod c\n"
     ]
    }
   ],
   "source": [
    "# q5\n",
    "def check_inverse(a, b, c):\n",
    "    print(\"a is\", a)\n",
    "    print(\"b is\", b)\n",
    "    print(\"c is\", c)\n",
    "    if (a*b % c == 1):\n",
    "        print(\"Yes, a is the inverse of b mod c\")\n",
    "    else:\n",
    "        print(\"No, a is not the inverse of b mod c\")\n",
    "        for i in range(c):\n",
    "            if (i*b % c == 1):\n",
    "                print(\"The inverse is\", i)\n",
    "                break\n",
    "check_inverse(3, 7, 4)"
   ]
  },
  {
   "cell_type": "code",
   "execution_count": 0,
   "metadata": {
    "collapsed": false
   },
   "outputs": [
   ],
   "source": [
   ]
  }
 ],
 "metadata": {
  "kernelspec": {
   "display_name": "SageMath 9.7",
   "language": "sagemath",
   "metadata": {
    "cocalc": {
     "description": "Open-source mathematical software system",
     "priority": 10,
     "url": "https://www.sagemath.org/"
    }
   },
   "name": "sage-9.7",
   "resource_dir": "/ext/jupyter/kernels/sage-9.7"
  },
  "language_info": {
   "codemirror_mode": {
    "name": "ipython",
    "version": 3
   },
   "file_extension": ".py",
   "mimetype": "text/x-python",
   "name": "python",
   "nbconvert_exporter": "python",
   "pygments_lexer": "ipython3",
   "version": "3.10.5"
  }
 },
 "nbformat": 4,
 "nbformat_minor": 4
}