{
 "cells": [
  {
   "cell_type": "code",
   "execution_count": 55,
   "metadata": {
    "collapsed": false
   },
   "outputs": [
    {
     "data": {
      "text/plain": [
       "[(2, 2), (3, 1)]"
      ]
     },
     "execution_count": 55,
     "metadata": {},
     "output_type": "execute_result"
    }
   ],
   "source": [
    "def Q1(a, b):\n",
    "    fac_a = list(factor(a))\n",
    "    fac_b = list(factor(a))\n",
    "    \n",
    "    ans = []\n",
    "    for i in fac_a:\n",
    "        if i in fac_b:\n",
    "           ans.append(i)\n",
    "    return ans\n",
    "\n",
    "Q1(12, 18)"
   ]
  },
  {
   "cell_type": "code",
   "execution_count": 23,
   "metadata": {
    "collapsed": false
   },
   "outputs": [
    {
     "data": {
      "text/plain": [
       "[(1, 2), (1, 4), (2, 3), (3, 4)]"
      ]
     },
     "execution_count": 23,
     "metadata": {},
     "output_type": "execute_result"
    }
   ],
   "source": [
    "def Q2(n):\n",
    "    ans = []\n",
    "    for a in range(1, n+1):\n",
    "        for b in range(a, n+1):\n",
    "            first = a**2 + b\n",
    "            second = a + b**2\n",
    "            \n",
    "            quo = first // second\n",
    "            rem = first % second\n",
    "            \n",
    "            summation = quo + rem\n",
    "            \n",
    "            if is_prime(summation):\n",
    "                ans.append((a, b))\n",
    "    return ans\n",
    "\n",
    "Q2(5)"
   ]
  },
  {
   "cell_type": "code",
   "execution_count": 46,
   "metadata": {
    "collapsed": false
   },
   "outputs": [
    {
     "data": {
      "text/plain": [
       "[(0, True),\n",
       " (1, True),\n",
       " (2, True),\n",
       " (3, True),\n",
       " (4, True),\n",
       " (5, False),\n",
       " (6, False),\n",
       " (7, False),\n",
       " (8, False),\n",
       " (9, False),\n",
       " (10, False),\n",
       " (11, False),\n",
       " (12, False)]"
      ]
     },
     "execution_count": 46,
     "metadata": {},
     "output_type": "execute_result"
    }
   ],
   "source": [
    "def Q3(n):\n",
    "    ans = []\n",
    "    for i in range(0, n+1):\n",
    "        u = 2**i\n",
    "        fermat = 2**u + 1\n",
    "        output = (i, is_prime(fermat))\n",
    "        ans.append(output)\n",
    "    return ans\n",
    "Q3(12)"
   ]
  },
  {
   "cell_type": "code",
   "execution_count": 26,
   "metadata": {
    "collapsed": false
   },
   "outputs": [
    {
     "data": {
      "text/plain": [
       "True"
      ]
     },
     "execution_count": 26,
     "metadata": {},
     "output_type": "execute_result"
    }
   ],
   "source": [
    "def Q4(x, m):\n",
    "    \n",
    "    for i in range(1, x+1):\n",
    "        if (x*i)%m == 1:\n",
    "            return True\n",
    "    return False\n",
    "Q4(33, 17)"
   ]
  },
  {
   "cell_type": "code",
   "execution_count": 54,
   "metadata": {
    "collapsed": false
   },
   "outputs": [
    {
     "data": {
      "text/plain": [
       "[28,\n",
       " 61,\n",
       " 94,\n",
       " 127,\n",
       " 160,\n",
       " 193,\n",
       " 226,\n",
       " 259,\n",
       " 292,\n",
       " 325,\n",
       " 358,\n",
       " 391,\n",
       " 424,\n",
       " 457,\n",
       " 490,\n",
       " 523,\n",
       " 556,\n",
       " 589,\n",
       " 622,\n",
       " 655,\n",
       " 688,\n",
       " 721,\n",
       " 754,\n",
       " 787,\n",
       " 820,\n",
       " 853,\n",
       " 886,\n",
       " 919,\n",
       " 952,\n",
       " 985,\n",
       " 1018,\n",
       " 1051,\n",
       " 1084,\n",
       " 1117]"
      ]
     },
     "execution_count": 54,
     "metadata": {},
     "output_type": "execute_result"
    }
   ],
   "source": [
    "def Q5(n):\n",
    "    x = -1\n",
    "    for i in range(1, n+1):\n",
    "        for j in range(1, n + 1):\n",
    "            if (i*j)%n == 1 and is_prime(j):\n",
    "                x = i\n",
    "    ans = []\n",
    "    if x != -1:\n",
    "        for k in range(0, n+1):\n",
    "            res = x + n*k\n",
    "            ans.append(res)\n",
    "    return ans\n",
    "Q5(33)"
   ]
  },
  {
   "cell_type": "code",
   "execution_count": null,
   "metadata": {
    "collapsed": false
   },
   "outputs": [],
   "source": []
  }
 ],
 "metadata": {
  "kernelspec": {
   "display_name": "Python 3.9.7 64-bit",
   "language": "python",
   "name": "python3"
  },
  "language_info": {
   "codemirror_mode": {
    "name": "ipython",
    "version": 3
   },
   "file_extension": ".py",
   "mimetype": "text/x-python",
   "name": "python",
   "nbconvert_exporter": "python",
   "pygments_lexer": "ipython3",
   "version": "3.9.7"
  },
  "vscode": {
   "interpreter": {
    "hash": "aee8b7b246df8f9039afb4144a1f6fd8d2ca17a180786b69acc140d282b71a49"
   }
  }
 },
 "nbformat": 4,
 "nbformat_minor": 4
}
